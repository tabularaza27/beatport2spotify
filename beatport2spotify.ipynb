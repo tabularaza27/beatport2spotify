{
 "cells": [
  {
   "cell_type": "code",
   "execution_count": 202,
   "metadata": {},
   "outputs": [],
   "source": [
    "import requests\n",
    "\n",
    "import pandas as pd\n",
    "from bs4 import BeautifulSoup\n",
    "import spotipy\n",
    "import spotipy.util as util"
   ]
  },
  {
   "cell_type": "markdown",
   "metadata": {},
   "source": [
    "# _Import_ Playlists on Beatport to your Spotify  "
   ]
  },
  {
   "cell_type": "markdown",
   "metadata": {},
   "source": [
    "This Notebook provides functionalities to parse arbitrary playlists on [Beatport](https://www.beatport.com/) ( Beatport is the No. 1 electronic music store for DJs ) and _import_ these playlists into your Spotify account. \n",
    "\n",
    "You can see an example for the top playlists of 2018 on Beatport at the bottom. "
   ]
  },
  {
   "cell_type": "markdown",
   "metadata": {},
   "source": [
    "## Spotify Authentification "
   ]
  },
  {
   "cell_type": "code",
   "execution_count": 203,
   "metadata": {},
   "outputs": [],
   "source": [
    "username = '<spotify-username>' # add your spotify user name\n",
    "scope = 'playlist-modify-public'"
   ]
  },
  {
   "cell_type": "code",
   "execution_count": 204,
   "metadata": {},
   "outputs": [],
   "source": [
    "client_id = 'spotify-client-id' # add your spotify client id\n",
    "client_secret = 'spotify-client-secret' # add your spotify client secrect\n",
    "redirect_uri = 'http://localhost/'"
   ]
  },
  {
   "cell_type": "code",
   "execution_count": 205,
   "metadata": {},
   "outputs": [],
   "source": [
    "token = util.prompt_for_user_token(username, scope, client_id, client_secret,redirect_uri)"
   ]
  },
  {
   "cell_type": "code",
   "execution_count": 206,
   "metadata": {},
   "outputs": [],
   "source": [
    "sp = spotipy.Spotify(auth=token)"
   ]
  },
  {
   "cell_type": "markdown",
   "metadata": {},
   "source": [
    "## Functions for Parsing Tracks from Beatport Website "
   ]
  },
  {
   "cell_type": "code",
   "execution_count": 112,
   "metadata": {},
   "outputs": [],
   "source": [
    "def parse_track(track_html_snippet):\n",
    "    \"\"\"Returns Title, Mix and Artist in Dictionary parsed from html snippet of a single track\"\"\"\n",
    "    \n",
    "    title = track_html_snippet.find(class_=\"buk-track-primary-title\").text\n",
    "    mix = track_html_snippet.find(class_=\"buk-track-remixed\").text\n",
    "    artist = track_html_snippet.find(class_=\"buk-track-artists\").find('a').text\n",
    "    \n",
    "    return {'title': title, 'mix': mix, 'artist': artist}"
   ]
  },
  {
   "cell_type": "code",
   "execution_count": 150,
   "metadata": {},
   "outputs": [],
   "source": [
    "def parse_beatport_url(url):\n",
    "    \"\"\"parses tracks of beatport staffpicks website\n",
    "    \n",
    "    Args:\n",
    "        url (str): url of beatport website\n",
    "        \n",
    "    Returns\n",
    "        list of dicts containing info about each track, with keys 'title', 'mix', 'artist'\n",
    "    \"\"\"\n",
    "    \n",
    "    html = requests.get(url).text\n",
    "    soup = BeautifulSoup(html)\n",
    "    \n",
    "    charts_bucket = soup.find(class_='bucket tracks interior-chart-tracks')\n",
    "    raw_track_list = charts_bucket.find_all(class_='bucket-item')\n",
    "    \n",
    "    parsed_track_list = []\n",
    "    for item in raw_track_list:\n",
    "        try:\n",
    "            parsed_track = parse_track(item)\n",
    "        except BaseException as exc:\n",
    "            print('####################')\n",
    "            print(exc)\n",
    "            print(item)\n",
    "            print('####################')\n",
    "        else:\n",
    "            parsed_track_list.append(parsed_track)\n",
    "    \n",
    "    print(f'Parsed {len(parsed_track_list)} tracks')\n",
    "    \n",
    "    return parsed_track_list"
   ]
  },
  {
   "cell_type": "markdown",
   "metadata": {},
   "source": [
    "## Functions for Finding & Creating Playlists in [Spotify](https://spotipy.readthedocs.io/en/latest/#api-reference)"
   ]
  },
  {
   "cell_type": "markdown",
   "metadata": {},
   "source": [
    "### Find Spotify Titles"
   ]
  },
  {
   "cell_type": "code",
   "execution_count": 142,
   "metadata": {},
   "outputs": [],
   "source": [
    "def find_track(query_string, sp):\n",
    "    \"\"\"returns array with Title, Artist, URI of track that matches query string best\n",
    "    \n",
    "    Args:\n",
    "        query_string (str): query string for spotify search\n",
    "        sp (spotipy object)\n",
    "    \"\"\"\n",
    "    \n",
    "    results = sp.search(query_string)\n",
    "    \n",
    "    name = results['tracks']['items'][0]['name']\n",
    "    artist = results['tracks']['items'][0]['artists'][0]['name']\n",
    "    uri = results['tracks']['items'][0]['uri']\n",
    "    \n",
    "    #return [name, artist, uri]\n",
    "    return uri"
   ]
  },
  {
   "cell_type": "code",
   "execution_count": 157,
   "metadata": {},
   "outputs": [],
   "source": [
    "def find_tracks(parsed_track_list):\n",
    "    \"\"\"Returns list of Spotify Track URIs\n",
    "    \n",
    "    Args:\n",
    "        parsed_track_list (list): list of dicts with keys 'title', 'mix' and 'artist' \n",
    "    \"\"\"\n",
    "    found_tracks = []\n",
    "    for track in parsed_track_list:\n",
    "        found_track = False\n",
    "\n",
    "        # try to find track with 'track_title mix artist'\n",
    "        try:\n",
    "            query = '{} {} {}'.format(track[\"title\"], track[\"mix\"], track[\"artist\"])\n",
    "            found_track = find_track(query, sp)\n",
    "            found_tracks.append(found_track)\n",
    "            continue\n",
    "        except IndexError:\n",
    "            pass\n",
    "            # print(f'{query} not found with mix')\n",
    "\n",
    "        # if no track was found, find track with 'track_title artist'    \n",
    "        try:\n",
    "            query = '{} {}'.format(track[\"title\"], track[\"artist\"])\n",
    "            found_track = find_track(query, sp) \n",
    "            found_tracks.append(found_track)\n",
    "            # print(f'{query} found without mix')\n",
    "            continue\n",
    "        except IndexError:\n",
    "            pass\n",
    "            # print(f'{query} not found at all')\n",
    "\n",
    "    print(f'{len(found_tracks)} tracks found')\n",
    "    \n",
    "    return found_tracks"
   ]
  },
  {
   "cell_type": "markdown",
   "metadata": {},
   "source": [
    "### Create Playlist"
   ]
  },
  {
   "cell_type": "code",
   "execution_count": 154,
   "metadata": {},
   "outputs": [],
   "source": [
    "def create_playlist(url, name, sp):\n",
    "    \"\"\"Creates Spotify Playlist based on Beatport URL\n",
    "    \n",
    "    Args:\n",
    "        url (str): url of beatport staffpicks website\n",
    "        name (str): name of spotify playlist\n",
    "        sp (spotipy.client.Spotify): spotify api connection\n",
    "    \"\"\"\n",
    "    \n",
    "    track_list = parse_beatport_url(url)\n",
    "    spotify_uris = find_tracks(track_list)\n",
    "    \n",
    "    \n",
    "    playlist_id = sp.user_playlist_create('kaijeggle', name)['id']\n",
    "    sp.user_playlist_add_tracks('kaijeggle', playlist_id, spotify_uris)\n",
    "    \n",
    "    print('Created Spotify Playlist {}'.format(name))\n",
    "    \n",
    "    "
   ]
  },
  {
   "cell_type": "markdown",
   "metadata": {},
   "source": [
    "## Create one Playlist based on Beatport URL"
   ]
  },
  {
   "cell_type": "code",
   "execution_count": 155,
   "metadata": {},
   "outputs": [],
   "source": [
    "url = 'https://www.beatport.com/chart/staff-picks-2018-techno/541953'\n",
    "name = 'BEATPORT Techno Staff Picks 2018'"
   ]
  },
  {
   "cell_type": "code",
   "execution_count": 156,
   "metadata": {
    "collapsed": true
   },
   "outputs": [
    {
     "name": "stdout",
     "output_type": "stream",
     "text": [
      "Parsed 50 tracks\n",
      "Energize Original Mix Amelie Lens not found with mix\n",
      "Energize Amelie Lens found without mix\n",
      "Your Mind Original Mix Adam Beyer not found with mix\n",
      "Your Mind Adam Beyer found without mix\n",
      "No Regrets Original Mix BEC not found with mix\n",
      "No Regrets BEC found without mix\n",
      "Outsider Original Mix Joran Van Pol not found with mix\n",
      "Outsider Joran Van Pol found without mix\n",
      "Enigma Original Mix Rebekah not found with mix\n",
      "Enigma Rebekah found without mix\n",
      "DARE U Original Mix CIREZ D not found with mix\n",
      "DARE U CIREZ D found without mix\n",
      "Brussels Original Mix Charlotte de Witte not found with mix\n",
      "Brussels Charlotte de Witte found without mix\n",
      "Xingu Original Mix JX-216 not found with mix\n",
      "Xingu JX-216 found without mix\n",
      "Prosperity Original Mix Anja Schneider not found with mix\n",
      "Prosperity Anja Schneider found without mix\n",
      "Colour of a Dream Original Mix Alan Fitzpatrick not found with mix\n",
      "Colour of a Dream Alan Fitzpatrick found without mix\n",
      "Teint Original Mix Amotik not found with mix\n",
      "Teint Amotik found without mix\n",
      "Drumroll Original Mix DJ Boris not found with mix\n",
      "Drumroll DJ Boris found without mix\n",
      "Kernel Panic Original Mix Tony Tyson not found with mix\n",
      "Kernel Panic Tony Tyson found without mix\n",
      "Alive Original Mix Markantonio not found with mix\n",
      "Alive Markantonio found without mix\n",
      "Haku & Chihiro Original Mix Photonz not found with mix\n",
      "Haku & Chihiro Photonz found without mix\n",
      "Space Cake Original Mix 1979 not found with mix\n",
      "Space Cake 1979 found without mix\n",
      "Directions feat. Wevie Stonder The Cirez D Edit Wevie Stonder not found with mix\n",
      "Directions feat. Wevie Stonder Wevie Stonder not found at all\n",
      "Astero Ceras Original Mix 747 not found with mix\n",
      "Astero Ceras 747 found without mix\n",
      "Crack of Doom Original Mix Alex Bilancini not found with mix\n",
      "Crack of Doom Alex Bilancini found without mix\n",
      "Control Original Mix Phutek not found with mix\n",
      "Control Phutek found without mix\n",
      "Perception Original Mix Cari Lekebusch not found with mix\n",
      "Perception Cari Lekebusch found without mix\n",
      "One Way Traffic Original Mix Robots With No Soul not found with mix\n",
      "One Way Traffic Robots With No Soul found without mix\n",
      "Flam1 Original Mix Sikora not found with mix\n",
      "Flam1 Sikora found without mix\n",
      "Balance Original Mix Jay Lumen not found with mix\n",
      "Balance Jay Lumen found without mix\n",
      "Dimensions Original Mix Carlo Ruetz not found with mix\n",
      "Dimensions Carlo Ruetz found without mix\n",
      "Full Late Night Original Mix Josh Wink not found with mix\n",
      "Full Late Night Josh Wink not found at all\n",
      "Clocks Original Mix Robert Hood not found with mix\n",
      "Clocks Robert Hood found without mix\n",
      "Acid Machine Original Mix Steve Parker not found with mix\n",
      "Acid Machine Steve Parker found without mix\n",
      "Stability Original Mix Tom Hades not found with mix\n",
      "Stability Tom Hades found without mix\n",
      "Deja Vu Original Mix Raul Facio not found with mix\n",
      "Deja Vu Raul Facio found without mix\n",
      "Blue Dragon Original Mix Slam not found with mix\n",
      "Blue Dragon Slam found without mix\n",
      "Atom Original Mix 2pole not found with mix\n",
      "Atom 2pole found without mix\n",
      "Hysteria Original Mix Giacomo Renzi not found with mix\n",
      "Hysteria Giacomo Renzi found without mix\n",
      "Former Original Mix Reform (IT) not found with mix\n",
      "Former Reform (IT) not found at all\n",
      "47 tracks found\n",
      "Created Spotify Playlist BEATPORT Techno Staff Picks 2018\n"
     ]
    }
   ],
   "source": [
    "create_playlist(url, name, sp)"
   ]
  },
  {
   "cell_type": "markdown",
   "metadata": {},
   "source": [
    "## Create Playlist for all [Beatport Staff Picks 2018](https://www.beatport.com/staff-picks-2018)"
   ]
  },
  {
   "cell_type": "code",
   "execution_count": 159,
   "metadata": {},
   "outputs": [],
   "source": [
    "url = 'https://www.beatport.com/staff-picks-2018'\n",
    "html = requests.get(url).text\n",
    "soup = BeautifulSoup(html)"
   ]
  },
  {
   "cell_type": "code",
   "execution_count": 184,
   "metadata": {},
   "outputs": [],
   "source": [
    "raw_genre_list = soup.find_all(class_='bucket-item ec-item artwork-grid-item charts-artwork-grid-item')"
   ]
  },
  {
   "cell_type": "code",
   "execution_count": 192,
   "metadata": {},
   "outputs": [],
   "source": [
    "genres = []\n",
    "for genre in raw_genre_list:\n",
    "    relative_url = genre.find('a')['href']\n",
    "    absolute_url = 'https://www.beatport.com' + relative_url\n",
    "    genre = relative_url.split('2018-')[1].split('/')[0].title()\n",
    "    \n",
    "    genres.append({'genre': genre, 'url': absolute_url})"
   ]
  },
  {
   "cell_type": "markdown",
   "metadata": {},
   "source": [
    "### Create Playlist for every Genre"
   ]
  },
  {
   "cell_type": "code",
   "execution_count": 207,
   "metadata": {},
   "outputs": [
    {
     "name": "stdout",
     "output_type": "stream",
     "text": [
      "Start Process for Breaks\n",
      "Parsed 50 tracks\n",
      "43 tracks found\n",
      "Created Spotify Playlist Beatport Breaks Staff Picks 2018\n",
      "Start Process for Dubstep\n",
      "Parsed 50 tracks\n",
      "48 tracks found\n",
      "Created Spotify Playlist Beatport Dubstep Staff Picks 2018\n",
      "Start Process for Trap-Future-Bass\n",
      "Parsed 53 tracks\n",
      "41 tracks found\n",
      "Created Spotify Playlist Beatport Trap-Future-Bass Staff Picks 2018\n",
      "Start Process for Hip-Hop\n",
      "Parsed 51 tracks\n",
      "48 tracks found\n",
      "Created Spotify Playlist Beatport Hip-Hop Staff Picks 2018\n",
      "Start Process for Garage-Bassline-Grime\n",
      "Parsed 57 tracks\n",
      "48 tracks found\n",
      "Created Spotify Playlist Beatport Garage-Bassline-Grime Staff Picks 2018\n",
      "Start Process for Leftfield-Bass\n",
      "Parsed 59 tracks\n",
      "52 tracks found\n",
      "Created Spotify Playlist Beatport Leftfield-Bass Staff Picks 2018\n"
     ]
    }
   ],
   "source": [
    "for genre in genres[-6:]:\n",
    "    print('Start Process for', genre['genre'])\n",
    "    playlist_name = f'Beatport {genre[\"genre\"]} Staff Picks 2018'\n",
    "    create_playlist(genre['url'], playlist_name, sp)"
   ]
  },
  {
   "cell_type": "code",
   "execution_count": null,
   "metadata": {},
   "outputs": [],
   "source": []
  }
 ],
 "metadata": {
  "kernelspec": {
   "display_name": "beatport2spotify",
   "language": "python",
   "name": "beatport2spotify"
  },
  "language_info": {
   "codemirror_mode": {
    "name": "ipython",
    "version": 3
   },
   "file_extension": ".py",
   "mimetype": "text/x-python",
   "name": "python",
   "nbconvert_exporter": "python",
   "pygments_lexer": "ipython3",
   "version": "3.6.5"
  }
 },
 "nbformat": 4,
 "nbformat_minor": 2
}
